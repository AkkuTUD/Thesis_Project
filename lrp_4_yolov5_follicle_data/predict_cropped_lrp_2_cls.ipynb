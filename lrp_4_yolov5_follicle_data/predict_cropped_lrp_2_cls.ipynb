{
 "cells": [
  {
   "cell_type": "code",
   "execution_count": 1,
   "id": "44af7dc1-2076-4669-95a2-fc5aa54e2cb2",
   "metadata": {},
   "outputs": [
    {
     "name": "stderr",
     "output_type": "stream",
     "text": [
      "Using cache found in /home/akanksha/.cache/torch/hub/ultralytics_yolov5_master\n"
     ]
    },
    {
     "name": "stdout",
     "output_type": "stream",
     "text": [
      "\u001b[31m\u001b[1mrequirements:\u001b[0m Ultralytics requirement ['setuptools>=65.5.1'] not found, attempting AutoUpdate...\n",
      "\u001b[31m\u001b[1mrequirements:\u001b[0m ❌ AutoUpdate skipped (offline)\n"
     ]
    },
    {
     "name": "stderr",
     "output_type": "stream",
     "text": [
      "YOLOv5 🚀 2023-11-14 Python-3.10.12 torch-2.1.2+cu121 CUDA:0 (NVIDIA A100 80GB PCIe, 81038MiB)\n",
      "\n",
      "Fusing layers... \n",
      "YOLOv5s summary: 213 layers, 7225885 parameters, 0 gradients, 16.4 GFLOPs\n",
      "Adding AutoShape... \n"
     ]
    },
    {
     "name": "stdout",
     "output_type": "stream",
     "text": [
      "\u001b[31m\u001b[1mrequirements:\u001b[0m Ultralytics requirement ['setuptools>=65.5.1'] not found, attempting AutoUpdate...\n"
     ]
    },
    {
     "name": "stderr",
     "output_type": "stream",
     "text": [
      "Using cache found in /home/akanksha/.cache/torch/hub/ultralytics_yolov5_master\n"
     ]
    },
    {
     "name": "stdout",
     "output_type": "stream",
     "text": [
      "\u001b[31m\u001b[1mrequirements:\u001b[0m ❌ AutoUpdate skipped (offline)\n"
     ]
    },
    {
     "name": "stderr",
     "output_type": "stream",
     "text": [
      "YOLOv5 🚀 2023-11-14 Python-3.10.12 torch-2.1.2+cu121 CUDA:0 (NVIDIA A100 80GB PCIe, 81038MiB)\n",
      "\n",
      "Fusing layers... \n",
      "YOLOv5s summary: 213 layers, 7225885 parameters, 0 gradients, 16.4 GFLOPs\n",
      "Adding AutoShape... \n",
      "Using cache found in /home/akanksha/.cache/torch/hub/ultralytics_yolov5_master\n"
     ]
    },
    {
     "name": "stdout",
     "output_type": "stream",
     "text": [
      "\u001b[31m\u001b[1mrequirements:\u001b[0m Ultralytics requirement ['setuptools>=65.5.1'] not found, attempting AutoUpdate...\n",
      "\u001b[31m\u001b[1mrequirements:\u001b[0m ❌ AutoUpdate skipped (offline)\n"
     ]
    },
    {
     "name": "stderr",
     "output_type": "stream",
     "text": [
      "YOLOv5 🚀 2023-11-14 Python-3.10.12 torch-2.1.2+cu121 CUDA:0 (NVIDIA A100 80GB PCIe, 81038MiB)\n",
      "\n",
      "Fusing layers... \n",
      "YOLOv5s summary: 213 layers, 7225885 parameters, 0 gradients, 16.4 GFLOPs\n",
      "Adding AutoShape... \n"
     ]
    }
   ],
   "source": [
    "import torch\n",
    "import sys\n",
    "\n",
    "from helpers import *\n",
    "from lrp_helpers import *\n",
    "from lrp_database import *\n",
    "from select_images_helpers import *\n",
    "\n",
    "%matplotlib inline\n",
    "from matplotlib import pyplot as plt\n",
    "import matplotlib as mpl\n",
    "\n",
    "from pathlib import Path\n",
    "\n",
    "# from yolo\n",
    "from models.experimental import attempt_load\n",
    "\n",
    "_ = torch.hub.load('ultralytics/yolov5', \"yolov5s\", pretrained=True)"
   ]
  },
  {
   "cell_type": "code",
   "execution_count": 12,
   "id": "5095f6ed-7ca8-46c1-b3e7-4c2465e0646e",
   "metadata": {},
   "outputs": [
    {
     "name": "stderr",
     "output_type": "stream",
     "text": [
      "Fusing layers... \n",
      "Model summary: 224 layers, 7056607 parameters, 0 gradients\n",
      "Fusing layers... \n",
      "Model summary: 224 layers, 7056607 parameters, 0 gradients\n"
     ]
    }
   ],
   "source": [
    "#model_file = Path('../datasets/models/2021-10-follicle-detection-2-classes.zip')\n",
    "model_file = Path('3016bf3db53073454d0a9c0ea40321.zip') #\n",
    "device = torch.device('cpu')\n",
    "\n",
    "weights = model_file\n",
    "model = attempt_load(weights, device=device)\n",
    "\n",
    "model_exp = attempt_load(weights, device=device)\n",
    "\n",
    "model.eval();\n",
    "model_exp.eval();\n"
   ]
  },
  {
   "cell_type": "code",
   "execution_count": 13,
   "id": "d458498b-b7ff-4152-a58c-d508628a0bab",
   "metadata": {},
   "outputs": [],
   "source": [
    "# parameters\n",
    "detect_thresh = 0.4\n",
    "nms_thresh = 0.2\n",
    "n_max = -1\n",
    "if n_max<0:\n",
    "    n_max = sys.maxsize\n",
    "\n",
    "grad_of = \"logit_class\"\n",
    "gamma = 0.05\n",
    "input_lv, input_hv = (0, 1)\n",
    "\n",
    "class_names = ['Growing_Follicle', 'Primordial_Follicle']\n",
    "\n",
    "use_gpu_if_available = False\n",
    "\n",
    "m_model = meta_model(model, \n",
    "                    detect_thresh = detect_thresh,\n",
    "                    nms_thresh = nms_thresh,\n",
    "                    )\n",
    "\n",
    "m_model_exp = meta_model(model_exp,\n",
    "                        detect_thresh = detect_thresh,\n",
    "                        nms_thresh = nms_thresh,\n",
    "                        )\n",
    "\n",
    "#m_model.prepare_exp()"
   ]
  },
  {
   "cell_type": "markdown",
   "id": "e3a4f42c-88cd-4a46-a756-6fdcb2f2322d",
   "metadata": {},
   "source": [
    "## True Positive"
   ]
  },
  {
   "cell_type": "code",
   "execution_count": 14,
   "id": "b54ebbff-f33b-4110-847c-4d17b6a80238",
   "metadata": {},
   "outputs": [],
   "source": [
    "# image_path = r'/home/akanksha/interpretability-of-ML-models/lrp_4_yolov5/training_data_2_class/images/validation'\n",
    "# label_path = r'/home/akanksha/interpretability-of-ML-models/lrp_4_yolov5/training_data_2_class/labels/validation'\n",
    "\n",
    "# ds = CustomImageDataset(image_path, label_path)"
   ]
  },
  {
   "cell_type": "markdown",
   "id": "467f18b2-87ce-4448-897e-013a723f5c63",
   "metadata": {},
   "source": [
    "## False Positive"
   ]
  },
  {
   "cell_type": "code",
   "execution_count": 15,
   "id": "5f30e483-99b4-476e-8cbf-a1f434203661",
   "metadata": {},
   "outputs": [],
   "source": [
    "# image_path = r'/home/akanksha/interpretability-of-ML-models/lrp_4_yolov5/training_data_2_class/FP/images/validation'\n",
    "# label_path = r'/home/akanksha/interpretability-of-ML-models/lrp_4_yolov5/training_data_2_class/FP/labels/validation'\n",
    "\n",
    "# ds = CustomImageDataset(image_path, label_path)"
   ]
  },
  {
   "cell_type": "markdown",
   "id": "8832a951-9052-4d9f-9be1-0c189248ea22",
   "metadata": {},
   "source": [
    "## False Negative"
   ]
  },
  {
   "cell_type": "code",
   "execution_count": 16,
   "id": "0b896d9e-5d44-4eb9-b04f-710820ca4199",
   "metadata": {},
   "outputs": [],
   "source": [
    "image_path = r'/home/akanksha/interpretability-of-ML-models/lrp_4_yolov5/training/images/validation'\n",
    "label_path = r'/home/akanksha/interpretability-of-ML-models/lrp_4_yolov5/training/labels/validation'\n",
    "\n",
    "ds = CustomImageDataset(image_path, label_path)"
   ]
  },
  {
   "cell_type": "code",
   "execution_count": 17,
   "id": "974dd8a3-216b-444e-8079-3bb68184b318",
   "metadata": {},
   "outputs": [
    {
     "name": "stdout",
     "output_type": "stream",
     "text": [
      "{'image': <PIL.Image.Image image mode=RGB size=1280x1280 at 0x731A66003700>, 'label': [[1.0, 0.699609, 0.723437, 0.0382813, 0.065625]], 'file_name': '04R024-301-1_10 O2_x005_y004_f0.png'}\n",
      "1\n",
      "{'image': <PIL.Image.Image image mode=RGB size=1280x1280 at 0x73198216BE20>, 'label': [[1.0, 0.195703, 0.766016, 0.0507812, 0.0570312]], 'file_name': '04R024-301-1_02_O1_x005_y009_f0.png'}\n",
      "1\n",
      "{'image': <PIL.Image.Image image mode=RGB size=1280x1280 at 0x731A6606C640>, 'label': [[0.0, 0.0847656, 0.100391, 0.155469, 0.152344]], 'file_name': '04R024-383-1_10 - O2_x008_y006_f0.png'}\n",
      "1\n"
     ]
    }
   ],
   "source": [
    "blocks = []\n",
    "for i in range(0,3):\n",
    "    instance = ds.__getitem__(i)\n",
    "    print(instance)\n",
    "    print(len(instance['label']))\n",
    "    blocks.append(create_result_table_image(m_model, instance))\n",
    "\n",
    "result_table = pd.concat([pd.DataFrame(df) for df in blocks])\n",
    "# result_table"
   ]
  },
  {
   "cell_type": "code",
   "execution_count": 18,
   "id": "99019804-3190-4f0a-8482-372c4de94bcb",
   "metadata": {},
   "outputs": [
    {
     "data": {
      "text/html": [
       "<div>\n",
       "<style scoped>\n",
       "    .dataframe tbody tr th:only-of-type {\n",
       "        vertical-align: middle;\n",
       "    }\n",
       "\n",
       "    .dataframe tbody tr th {\n",
       "        vertical-align: top;\n",
       "    }\n",
       "\n",
       "    .dataframe thead th {\n",
       "        text-align: right;\n",
       "    }\n",
       "</style>\n",
       "<table border=\"1\" class=\"dataframe\">\n",
       "  <thead>\n",
       "    <tr style=\"text-align: right;\">\n",
       "      <th></th>\n",
       "      <th>img_name</th>\n",
       "      <th>object_id</th>\n",
       "      <th>real_class</th>\n",
       "      <th>object_class</th>\n",
       "      <th>confidence</th>\n",
       "      <th>center_true</th>\n",
       "      <th>bb</th>\n",
       "      <th>real_bb</th>\n",
       "      <th>center_pred</th>\n",
       "    </tr>\n",
       "  </thead>\n",
       "  <tbody>\n",
       "    <tr>\n",
       "      <th>0</th>\n",
       "      <td>04R024-301-1_10 O2_x005_y004_f0.png</td>\n",
       "      <td>object_0</td>\n",
       "      <td>1.0</td>\n",
       "      <td>NaN</td>\n",
       "      <td>NaN</td>\n",
       "      <td>(0.699609, 0.723437)</td>\n",
       "      <td>not impl.</td>\n",
       "      <td>NaN</td>\n",
       "      <td>NaN</td>\n",
       "    </tr>\n",
       "    <tr>\n",
       "      <th>1</th>\n",
       "      <td>04R024-301-1_10 O2_x005_y004_f0.png</td>\n",
       "      <td>object_1</td>\n",
       "      <td>NaN</td>\n",
       "      <td>1.0</td>\n",
       "      <td>0.656</td>\n",
       "      <td>NaN</td>\n",
       "      <td>NaN</td>\n",
       "      <td>not impl.</td>\n",
       "      <td>NaN</td>\n",
       "    </tr>\n",
       "    <tr>\n",
       "      <th>0</th>\n",
       "      <td>04R024-301-1_02_O1_x005_y009_f0.png</td>\n",
       "      <td>object_0</td>\n",
       "      <td>1.0</td>\n",
       "      <td>1.0</td>\n",
       "      <td>0.853</td>\n",
       "      <td>(0.195703, 0.766016)</td>\n",
       "      <td>not impl.</td>\n",
       "      <td>not impl.</td>\n",
       "      <td>(0.1964, 0.76639)</td>\n",
       "    </tr>\n",
       "    <tr>\n",
       "      <th>0</th>\n",
       "      <td>04R024-383-1_10 - O2_x008_y006_f0.png</td>\n",
       "      <td>object_0</td>\n",
       "      <td>0.0</td>\n",
       "      <td>0.0</td>\n",
       "      <td>0.832</td>\n",
       "      <td>(0.0847656, 0.100391)</td>\n",
       "      <td>not impl.</td>\n",
       "      <td>not impl.</td>\n",
       "      <td>(0.09239, 0.0977)</td>\n",
       "    </tr>\n",
       "  </tbody>\n",
       "</table>\n",
       "</div>"
      ],
      "text/plain": [
       "                                img_name object_id  real_class  object_class  \\\n",
       "0    04R024-301-1_10 O2_x005_y004_f0.png  object_0         1.0           NaN   \n",
       "1    04R024-301-1_10 O2_x005_y004_f0.png  object_1         NaN           1.0   \n",
       "0    04R024-301-1_02_O1_x005_y009_f0.png  object_0         1.0           1.0   \n",
       "0  04R024-383-1_10 - O2_x008_y006_f0.png  object_0         0.0           0.0   \n",
       "\n",
       "   confidence            center_true         bb    real_bb        center_pred  \n",
       "0         NaN   (0.699609, 0.723437)  not impl.        NaN                NaN  \n",
       "1       0.656                    NaN        NaN  not impl.                NaN  \n",
       "0       0.853   (0.195703, 0.766016)  not impl.  not impl.  (0.1964, 0.76639)  \n",
       "0       0.832  (0.0847656, 0.100391)  not impl.  not impl.  (0.09239, 0.0977)  "
      ]
     },
     "execution_count": 18,
     "metadata": {},
     "output_type": "execute_result"
    }
   ],
   "source": [
    "result_table"
   ]
  },
  {
   "cell_type": "code",
   "execution_count": 19,
   "id": "e09c71f0-f334-4800-8f15-788eceb7b814",
   "metadata": {},
   "outputs": [
    {
     "name": "stdout",
     "output_type": "stream",
     "text": [
      "cm     p_1  p_0  bn\n",
      "t1    1    0   1\n",
      "t0    0    1   0\n"
     ]
    },
    {
     "data": {
      "text/plain": [
       "['04R024-383-1_10 - O2_x008_y006_f0.png']"
      ]
     },
     "execution_count": 19,
     "metadata": {},
     "output_type": "execute_result"
    }
   ],
   "source": [
    "# explain top x of c_matrix\n",
    "def explain_from_cmatrix(result_table, cm_type, x=False):\n",
    "    cm, df_x = extract_metrics(result_table, cm_type)\n",
    "    print(\"cm\",cm)\n",
    "    if cm_type:\n",
    "        if x:\n",
    "            df_x.sort_values(by='confidence',inplace=True)\n",
    "            return df_x['img_name'].unique().tolist()[:x]\n",
    "        else:\n",
    "            df_x.sort_values(by='confidence',inplace=True)\n",
    "            return df_x['img_name'].unique().tolist()\n",
    "\n",
    "explain_from_cmatrix(result_table,'t0p0')"
   ]
  },
  {
   "cell_type": "code",
   "execution_count": 20,
   "id": "aaa26a89-2455-4c7b-a4e4-78b0643b110f",
   "metadata": {},
   "outputs": [
    {
     "name": "stdout",
     "output_type": "stream",
     "text": [
      "cm     p_1  p_0  bn\n",
      "t1    1    0   1\n",
      "t0    0    1   0\n",
      "cm     p_1  p_0  bn\n",
      "t1    1    0   1\n",
      "t0    0    1   0\n",
      "cm     p_1  p_0  bn\n",
      "t1    1    0   1\n",
      "t0    0    1   0\n",
      "cm     p_1  p_0  bn\n",
      "t1    1    0   1\n",
      "t0    0    1   0\n",
      "cm     p_1  p_0  bn\n",
      "t1    1    0   1\n",
      "t0    0    1   0\n",
      "cm     p_1  p_0  bn\n",
      "t1    1    0   1\n",
      "t0    0    1   0\n"
     ]
    },
    {
     "data": {
      "text/plain": [
       "{'04R024-301-1_02_O1_x005_y009_f0.png',\n",
       " '04R024-301-1_10 O2_x005_y004_f0.png',\n",
       " '04R024-383-1_10 - O2_x008_y006_f0.png'}"
      ]
     },
     "execution_count": 20,
     "metadata": {},
     "output_type": "execute_result"
    }
   ],
   "source": [
    "# explain top x of c_matrix\n",
    "def explain_from_cmatrix(result_table, cm_type, x=False):\n",
    "    cm, df_x = extract_metrics(result_table, cm_type)\n",
    "    print(\"cm\",cm)\n",
    "    if cm_type:\n",
    "        if x:\n",
    "            df_x.sort_values(by='confidence',inplace=True)\n",
    "            return df_x['img_name'].unique().tolist()[:x]\n",
    "        else:\n",
    "            df_x.sort_values(by='confidence',inplace=True)\n",
    "            return df_x['img_name'].unique().tolist()\n",
    "\n",
    "imgs = explain_from_cmatrix(result_table,'t0p1')+explain_from_cmatrix(result_table,'t1p0')+explain_from_cmatrix(result_table,'t0p0')+explain_from_cmatrix(result_table,'t1p1')+explain_from_cmatrix(result_table,'t1bn')+explain_from_cmatrix(result_table,'t0bn')\n",
    "imgs = set(imgs)\n",
    "imgs"
   ]
  },
  {
   "cell_type": "code",
   "execution_count": 21,
   "id": "79b2ebf0-279c-4e51-af9f-99176524b5a5",
   "metadata": {},
   "outputs": [
    {
     "name": "stdout",
     "output_type": "stream",
     "text": [
      "<class 'models.common.Conv'>: 59\n",
      "<class 'torch.nn.modules.conv.Conv2d'>: 3\n",
      "<class 'models.common.Bottleneck'>: 12\n",
      "We have 12 Bottlenecks\n",
      "and 7 of them with add=True\n",
      "cm     p_1  p_0  bn\n",
      "t1    1    0   1\n",
      "t0    0    1   0\n",
      "img_id 1\n",
      "img 04R024-301-1_02_O1_x005_y009_f0.png\n",
      "class_names ['Growing_Follicle', 'Primordial_Follicle']\n",
      "model preds tensor([[2.05515e+02, 9.33618e+02, 2.97265e+02, 1.02834e+03, 8.52926e-01, 1.00000e+00]])\n",
      "n_p 1\n",
      "labels: [[1.0, 0.195703, 0.766016, 0.0507812, 0.0570312]]\n",
      "n_l 1\n",
      "object_index 1\n"
     ]
    },
    {
     "data": {
      "image/png": "[encoded data removed]",
      "text/plain": [
       "<Figure size 640x480 with 1 Axes>"
      ]
     },
     "metadata": {},
     "output_type": "display_data"
    },
    {
     "data": {
      "image/png": "[encoded data removed]",
      "text/plain": [
       "<Figure size 640x480 with 1 Axes>"
      ]
     },
     "metadata": {},
     "output_type": "display_data"
    },
    {
     "data": {
      "image/png": "[encoded data removed]",
      "text/plain": [
       "<Figure size 640x480 with 1 Axes>"
      ]
     },
     "metadata": {},
     "output_type": "display_data"
    },
    {
     "data": {
      "text/html": [
       "<div>\n",
       "<style scoped>\n",
       "    .dataframe tbody tr th:only-of-type {\n",
       "        vertical-align: middle;\n",
       "    }\n",
       "\n",
       "    .dataframe tbody tr th {\n",
       "        vertical-align: top;\n",
       "    }\n",
       "\n",
       "    .dataframe thead th {\n",
       "        text-align: right;\n",
       "    }\n",
       "</style>\n",
       "<table border=\"1\" class=\"dataframe\">\n",
       "  <thead>\n",
       "    <tr style=\"text-align: right;\">\n",
       "      <th></th>\n",
       "      <th>pred_cls</th>\n",
       "      <th>org_cls</th>\n",
       "      <th>outcome</th>\n",
       "      <th>binary_img</th>\n",
       "      <th>heatmap_0</th>\n",
       "      <th>conf</th>\n",
       "      <th>obj</th>\n",
       "      <th>heatmap_1</th>\n",
       "      <th>classes</th>\n",
       "    </tr>\n",
       "  </thead>\n",
       "  <tbody>\n",
       "    <tr>\n",
       "      <th>0</th>\n",
       "      <td>1</td>\n",
       "      <td>1</td>\n",
       "      <td>TP</td>\n",
       "      <td>b'\\x89PNG\\r\\n\\x1a\\n\\x00\\x00\\x00\\rIHDR\\x00\\x00\\...</td>\n",
       "      <td>b'\\x89PNG\\r\\n\\x1a\\n\\x00\\x00\\x00\\rIHDR\\x00\\x00\\...</td>\n",
       "      <td>0.98408</td>\n",
       "      <td>0.86672</td>\n",
       "      <td>b'\\x89PNG\\r\\n\\x1a\\n\\x00\\x00\\x00\\rIHDR\\x00\\x00\\...</td>\n",
       "      <td>{0,1}</td>\n",
       "    </tr>\n",
       "  </tbody>\n",
       "</table>\n",
       "</div>"
      ],
      "text/plain": [
       "  pred_cls org_cls outcome                                         binary_img  \\\n",
       "0        1       1      TP  b'\\x89PNG\\r\\n\\x1a\\n\\x00\\x00\\x00\\rIHDR\\x00\\x00\\...   \n",
       "\n",
       "                                           heatmap_0     conf      obj  \\\n",
       "0  b'\\x89PNG\\r\\n\\x1a\\n\\x00\\x00\\x00\\rIHDR\\x00\\x00\\...  0.98408  0.86672   \n",
       "\n",
       "                                           heatmap_1 classes  \n",
       "0  b'\\x89PNG\\r\\n\\x1a\\n\\x00\\x00\\x00\\rIHDR\\x00\\x00\\...   {0,1}  "
      ]
     },
     "metadata": {},
     "output_type": "display_data"
    }
   ],
   "source": [
    "import warnings\n",
    "warnings.filterwarnings(\"ignore\")\n",
    "\n",
    "focus_conv, arr_yolo_convs, arr_inside_yolo_convs, arr_detection_convs, arr_summation_shortcuts = prepare_for_lrp(m_model)\n",
    "#m_model.prepare_exp()\n",
    "\n",
    "#m_model_exp.prepare_exp() # not reversible yet\n",
    "for img_id, img in enumerate(explain_from_cmatrix(result_table,'t1p1')):\n",
    "    instance = ds.__getitem__(ds.__getid__(img))\n",
    "    image_raw = instance['image']\n",
    "    model_prediction = m_model.predict(instance)\n",
    "    # model preparation\n",
    "    \n",
    "    print(\"img_id\",ds.__getid__(img))\n",
    "    print(\"img\",img)\n",
    "    print(\"class_names\", class_names)\n",
    "    exp = explainer(model= m_model,\n",
    "                    instance= instance,\n",
    "                    detect_thresh= detect_thresh,\n",
    "                    nms_thresh= nms_thresh,\n",
    "                    grad_of=grad_of,\n",
    "                    gamma=gamma,\n",
    "                    n_max= n_max,\n",
    "                    input_lv= input_lv,\n",
    "                    input_hv= input_hv,\n",
    "                    focus_conv= focus_conv,\n",
    "                    arr_yolo_convs= arr_yolo_convs,\n",
    "                    arr_inside_yolo_convs= arr_inside_yolo_convs,\n",
    "                    arr_detection_convs= arr_detection_convs,\n",
    "                    arr_summation_shortcuts= arr_summation_shortcuts\n",
    "                    )\n",
    "\n",
    "    df = exp.get_heatmaps_for_instance(exp, instance=instance, img=image_raw, class_names=class_names)"
   ]
  },
  {
   "cell_type": "code",
   "execution_count": null,
   "id": "da517afb-7ad0-4999-a1f0-10d6bfa87855",
   "metadata": {},
   "outputs": [],
   "source": []
  },
  {
   "cell_type": "code",
   "execution_count": null,
   "id": "510d5ecd-0bd2-498e-b780-20789841d141",
   "metadata": {},
   "outputs": [],
   "source": []
  },
  {
   "cell_type": "code",
   "execution_count": 13,
   "id": "321dc868-318d-481c-81f5-4fdbc6b5fd02",
   "metadata": {},
   "outputs": [
    {
     "name": "stdout",
     "output_type": "stream",
     "text": [
      "<class 'models.common.Conv'>: 167\n",
      "<class 'torch.nn.modules.conv.Conv2d'>: 1\n",
      "<class 'models.common.Bottleneck'>: 60\n",
      "We have 60 Bottlenecks\n",
      "and 32 of them with add=True\n",
      "cm     p_1  p_0  bn\n",
      "t1    0    0   2\n",
      "t0    0    1   0\n",
      "img_id 1\n",
      "img 04R024-383-1_10 - O2_x008_y006_f0.png\n",
      "class_names ['Growing_Follicle', 'Primordial_Follicle']\n",
      "model preds tensor([[ 12.58234,  24.00358, 226.13513, 231.79388,   0.87685,   0.00000]])\n",
      "n_p 1\n",
      "labels: [[0.0, 0.0847656, 0.100391, 0.155469, 0.152344]]\n",
      "n_l 1\n",
      "object_index 1\n"
     ]
    },
    {
     "data": {
      "image/png": "[encoded data removed]",
      "text/plain": [
       "<Figure size 1000x1000 with 1 Axes>"
      ]
     },
     "metadata": {},
     "output_type": "display_data"
    },
    {
     "data": {
      "image/png": "[encoded data removed]",
      "text/plain": [
       "<Figure size 1000x1000 with 1 Axes>"
      ]
     },
     "metadata": {},
     "output_type": "display_data"
    },
    {
     "data": {
      "image/png": "[encoded data removed]",
      "text/plain": [
       "<Figure size 1000x1000 with 1 Axes>"
      ]
     },
     "metadata": {},
     "output_type": "display_data"
    },
    {
     "data": {
      "text/html": [
       "<div>\n",
       "<style scoped>\n",
       "    .dataframe tbody tr th:only-of-type {\n",
       "        vertical-align: middle;\n",
       "    }\n",
       "\n",
       "    .dataframe tbody tr th {\n",
       "        vertical-align: top;\n",
       "    }\n",
       "\n",
       "    .dataframe thead th {\n",
       "        text-align: right;\n",
       "    }\n",
       "</style>\n",
       "<table border=\"1\" class=\"dataframe\">\n",
       "  <thead>\n",
       "    <tr style=\"text-align: right;\">\n",
       "      <th></th>\n",
       "      <th>pred_cls</th>\n",
       "      <th>org_cls</th>\n",
       "      <th>outcome</th>\n",
       "      <th>binary_img</th>\n",
       "      <th>conf</th>\n",
       "      <th>obj</th>\n",
       "      <th>heatmap_0</th>\n",
       "      <th>heatmap_1</th>\n",
       "      <th>classes</th>\n",
       "    </tr>\n",
       "  </thead>\n",
       "  <tbody>\n",
       "    <tr>\n",
       "      <th>0</th>\n",
       "      <td>0</td>\n",
       "      <td>0</td>\n",
       "      <td>TP</td>\n",
       "      <td>b'\\x89PNG\\r\\n\\x1a\\n\\x00\\x00\\x00\\rIHDR\\x00\\x00\\...</td>\n",
       "      <td>0.97692</td>\n",
       "      <td>0.89757</td>\n",
       "      <td>b'\\x89PNG\\r\\n\\x1a\\n\\x00\\x00\\x00\\rIHDR\\x00\\x00\\...</td>\n",
       "      <td>b'\\x89PNG\\r\\n\\x1a\\n\\x00\\x00\\x00\\rIHDR\\x00\\x00\\...</td>\n",
       "      <td>{0,1}</td>\n",
       "    </tr>\n",
       "  </tbody>\n",
       "</table>\n",
       "</div>"
      ],
      "text/plain": [
       "  pred_cls org_cls outcome                                         binary_img  \\\n",
       "0        0       0      TP  b'\\x89PNG\\r\\n\\x1a\\n\\x00\\x00\\x00\\rIHDR\\x00\\x00\\...   \n",
       "\n",
       "      conf      obj                                          heatmap_0  \\\n",
       "0  0.97692  0.89757  b'\\x89PNG\\r\\n\\x1a\\n\\x00\\x00\\x00\\rIHDR\\x00\\x00\\...   \n",
       "\n",
       "                                           heatmap_1 classes  \n",
       "0  b'\\x89PNG\\r\\n\\x1a\\n\\x00\\x00\\x00\\rIHDR\\x00\\x00\\...   {0,1}  "
      ]
     },
     "metadata": {},
     "output_type": "display_data"
    }
   ],
   "source": [
    "import warnings\n",
    "warnings.filterwarnings(\"ignore\")\n",
    "\n",
    "focus_conv, arr_yolo_convs, arr_inside_yolo_convs, arr_detection_convs, arr_summation_shortcuts = prepare_for_lrp(m_model)\n",
    "#m_model.prepare_exp()\n",
    "\n",
    "#m_model_exp.prepare_exp() # not reversible yet\n",
    "for img_id, img in enumerate(explain_from_cmatrix(result_table,'t0p0')):\n",
    "    instance = ds.__getitem__(ds.__getid__(img))\n",
    "    image_raw = instance['image']\n",
    "    model_prediction = m_model.predict(instance)\n",
    "    # model preparation\n",
    "    \n",
    "    print(\"img_id\",ds.__getid__(img))\n",
    "    print(\"img\",img)\n",
    "    print(\"class_names\", class_names)\n",
    "    exp = explainer(model= m_model,\n",
    "                    instance= instance,\n",
    "                    detect_thresh= detect_thresh,\n",
    "                    nms_thresh= nms_thresh,\n",
    "                    grad_of=grad_of,\n",
    "                    gamma=gamma,\n",
    "                    n_max= n_max,\n",
    "                    input_lv= input_lv,\n",
    "                    input_hv= input_hv,\n",
    "                    focus_conv= focus_conv,\n",
    "                    arr_yolo_convs= arr_yolo_convs,\n",
    "                    arr_inside_yolo_convs= arr_inside_yolo_convs,\n",
    "                    arr_detection_convs= arr_detection_convs,\n",
    "                    arr_summation_shortcuts= arr_summation_shortcuts\n",
    "                    )\n",
    "\n",
    "    df = exp.get_heatmaps_for_instance(exp, instance=instance, img=image_raw, class_names=class_names)"
   ]
  },
  {
   "cell_type": "code",
   "execution_count": null,
   "id": "90703eb2-0763-4363-83fc-f0ac96caad91",
   "metadata": {},
   "outputs": [],
   "source": []
  },
  {
   "cell_type": "code",
   "execution_count": null,
   "id": "64655b95-10f1-4165-b880-86de9769aa04",
   "metadata": {},
   "outputs": [],
   "source": []
  },
  {
   "cell_type": "code",
   "execution_count": null,
   "id": "eb01f888-995f-4436-96f6-66c669b61107",
   "metadata": {},
   "outputs": [],
   "source": []
  },
  {
   "cell_type": "code",
   "execution_count": null,
   "id": "fc2c9c9e-3015-4737-8386-1f23a7cef5e5",
   "metadata": {},
   "outputs": [],
   "source": []
  },
  {
   "cell_type": "markdown",
   "id": "16b602e4-1428-4320-b4ff-1e1bb96642b7",
   "metadata": {},
   "source": [
    "#### Insert Heatmap"
   ]
  },
  {
   "cell_type": "code",
   "execution_count": 11,
   "id": "d5ae3dad-ad45-481f-b727-f3fde9dccc04",
   "metadata": {},
   "outputs": [
    {
     "name": "stdout",
     "output_type": "stream",
     "text": [
      "interpretability-of-ML-models/lrp_4_yolov5/random_split_2_classes.zip\n",
      "Model file exist.\n"
     ]
    }
   ],
   "source": [
    "model_file_path = '/'.join(os.path.abspath(model_file).split('/')[3:])\n",
    "print(model_file_path)\n",
    "# insert model into database\n",
    "process_model_to_database(platform_url=None, local_model_path=model_file_path)"
   ]
  },
  {
   "cell_type": "code",
   "execution_count": 12,
   "id": "cb987b4d-a062-49de-a966-17a225d0fe37",
   "metadata": {},
   "outputs": [
    {
     "name": "stdout",
     "output_type": "stream",
     "text": [
      "Explanation exist for this model.\n"
     ]
    }
   ],
   "source": [
    "# #insert lrp explanations into table\n",
    "xai_approach_metric = 'lrp'\n",
    "Xai_Status = 'okay'\n",
    "model_id_internal = insert_explanations(xai_approach_metric, Xai_Status, model_file_path)"
   ]
  },
  {
   "cell_type": "code",
   "execution_count": 13,
   "id": "75f9a2e8-352b-4774-b3ff-64eff146c723",
   "metadata": {},
   "outputs": [
    {
     "name": "stdout",
     "output_type": "stream",
     "text": [
      "<class 'models.common.Conv'>: 167\n",
      "<class 'torch.nn.modules.conv.Conv2d'>: 1\n",
      "<class 'models.common.Bottleneck'>: 60\n",
      "We have 60 Bottlenecks\n",
      "and 32 of them with add=True\n",
      "img_id 7\n",
      "img 04R024-304-1_11_O2_x003_y004_f0.png\n",
      "model preds tensor([[714.68353,  47.12181, 783.56805, 114.63969,   0.84590,   1.00000]])\n",
      "n_p 1\n",
      "labels: [[1.0, 0.585547, 0.0617188, 0.0445313, 0.05]]\n",
      "n_l 1\n",
      "object_index 1\n"
     ]
    },
    {
     "data": {
      "text/html": [
       "<div>\n",
       "<style scoped>\n",
       "    .dataframe tbody tr th:only-of-type {\n",
       "        vertical-align: middle;\n",
       "    }\n",
       "\n",
       "    .dataframe tbody tr th {\n",
       "        vertical-align: top;\n",
       "    }\n",
       "\n",
       "    .dataframe thead th {\n",
       "        text-align: right;\n",
       "    }\n",
       "</style>\n",
       "<table border=\"1\" class=\"dataframe\">\n",
       "  <thead>\n",
       "    <tr style=\"text-align: right;\">\n",
       "      <th></th>\n",
       "      <th>pred_cls</th>\n",
       "      <th>org_cls</th>\n",
       "      <th>outcome</th>\n",
       "      <th>binary_img</th>\n",
       "      <th>heatmap_0</th>\n",
       "      <th>conf</th>\n",
       "      <th>obj</th>\n",
       "      <th>heatmap_1</th>\n",
       "      <th>classes</th>\n",
       "    </tr>\n",
       "  </thead>\n",
       "  <tbody>\n",
       "    <tr>\n",
       "      <th>0</th>\n",
       "      <td>1</td>\n",
       "      <td>1</td>\n",
       "      <td>TP</td>\n",
       "      <td>b'\\x89PNG\\r\\n\\x1a\\n\\x00\\x00\\x00\\rIHDR\\x00\\x00\\...</td>\n",
       "      <td>b'\\x89PNG\\r\\n\\x1a\\n\\x00\\x00\\x00\\rIHDR\\x00\\x00\\...</td>\n",
       "      <td>0.99802</td>\n",
       "      <td>0.84758</td>\n",
       "      <td>b'\\x89PNG\\r\\n\\x1a\\n\\x00\\x00\\x00\\rIHDR\\x00\\x00\\...</td>\n",
       "      <td>{0,1}</td>\n",
       "    </tr>\n",
       "  </tbody>\n",
       "</table>\n",
       "</div>"
      ],
      "text/plain": [
       "  pred_cls org_cls outcome                                         binary_img  \\\n",
       "0        1       1      TP  b'\\x89PNG\\r\\n\\x1a\\n\\x00\\x00\\x00\\rIHDR\\x00\\x00\\...   \n",
       "\n",
       "                                           heatmap_0     conf      obj  \\\n",
       "0  b'\\x89PNG\\r\\n\\x1a\\n\\x00\\x00\\x00\\rIHDR\\x00\\x00\\...  0.99802  0.84758   \n",
       "\n",
       "                                           heatmap_1 classes  \n",
       "0  b'\\x89PNG\\r\\n\\x1a\\n\\x00\\x00\\x00\\rIHDR\\x00\\x00\\...   {0,1}  "
      ]
     },
     "metadata": {},
     "output_type": "display_data"
    },
    {
     "name": "stdout",
     "output_type": "stream",
     "text": [
      "Data inserted into database successfully.\n",
      "img_id 4\n",
      "img 04R024-304-1_07_O1_x004_y006_f0.png\n",
      "model preds tensor([[1.15045e+03, 9.85895e+02, 1.27986e+03, 1.13852e+03, 7.43205e-01, 0.00000e+00]])\n",
      "n_p 1\n",
      "labels: [[1.0, 0.948438, 0.826172, 0.101562, 0.110156]]\n",
      "n_l 1\n",
      "object_index 1\n"
     ]
    },
    {
     "data": {
      "text/html": [
       "<div>\n",
       "<style scoped>\n",
       "    .dataframe tbody tr th:only-of-type {\n",
       "        vertical-align: middle;\n",
       "    }\n",
       "\n",
       "    .dataframe tbody tr th {\n",
       "        vertical-align: top;\n",
       "    }\n",
       "\n",
       "    .dataframe thead th {\n",
       "        text-align: right;\n",
       "    }\n",
       "</style>\n",
       "<table border=\"1\" class=\"dataframe\">\n",
       "  <thead>\n",
       "    <tr style=\"text-align: right;\">\n",
       "      <th></th>\n",
       "      <th>pred_cls</th>\n",
       "      <th>org_cls</th>\n",
       "      <th>outcome</th>\n",
       "      <th>binary_img</th>\n",
       "      <th>conf</th>\n",
       "      <th>obj</th>\n",
       "      <th>heatmap_0</th>\n",
       "      <th>heatmap_1</th>\n",
       "      <th>classes</th>\n",
       "    </tr>\n",
       "  </thead>\n",
       "  <tbody>\n",
       "    <tr>\n",
       "      <th>0</th>\n",
       "      <td>0</td>\n",
       "      <td>1</td>\n",
       "      <td>Missclassified</td>\n",
       "      <td>b'\\x89PNG\\r\\n\\x1a\\n\\x00\\x00\\x00\\rIHDR\\x00\\x00\\...</td>\n",
       "      <td>0.86799</td>\n",
       "      <td>0.85623</td>\n",
       "      <td>b'\\x89PNG\\r\\n\\x1a\\n\\x00\\x00\\x00\\rIHDR\\x00\\x00\\...</td>\n",
       "      <td>b'\\x89PNG\\r\\n\\x1a\\n\\x00\\x00\\x00\\rIHDR\\x00\\x00\\...</td>\n",
       "      <td>{0,1}</td>\n",
       "    </tr>\n",
       "  </tbody>\n",
       "</table>\n",
       "</div>"
      ],
      "text/plain": [
       "  pred_cls org_cls         outcome  \\\n",
       "0        0       1  Missclassified   \n",
       "\n",
       "                                          binary_img     conf      obj  \\\n",
       "0  b'\\x89PNG\\r\\n\\x1a\\n\\x00\\x00\\x00\\rIHDR\\x00\\x00\\...  0.86799  0.85623   \n",
       "\n",
       "                                           heatmap_0  \\\n",
       "0  b'\\x89PNG\\r\\n\\x1a\\n\\x00\\x00\\x00\\rIHDR\\x00\\x00\\...   \n",
       "\n",
       "                                           heatmap_1 classes  \n",
       "0  b'\\x89PNG\\r\\n\\x1a\\n\\x00\\x00\\x00\\rIHDR\\x00\\x00\\...   {0,1}  "
      ]
     },
     "metadata": {},
     "output_type": "display_data"
    },
    {
     "name": "stdout",
     "output_type": "stream",
     "text": [
      "Data inserted into database successfully.\n",
      "img_id 6\n",
      "img 04R024-304-1_08_O1_x004_y008_f0.png\n",
      "model preds tensor([[327.00986, 339.91409, 402.04276, 416.25552,   0.86969,   1.00000]])\n",
      "n_p 1\n",
      "labels: [[1.0, 0.285156, 0.290625, 0.05625, 0.05625]]\n",
      "n_l 1\n",
      "object_index 1\n"
     ]
    },
    {
     "data": {
      "text/html": [
       "<div>\n",
       "<style scoped>\n",
       "    .dataframe tbody tr th:only-of-type {\n",
       "        vertical-align: middle;\n",
       "    }\n",
       "\n",
       "    .dataframe tbody tr th {\n",
       "        vertical-align: top;\n",
       "    }\n",
       "\n",
       "    .dataframe thead th {\n",
       "        text-align: right;\n",
       "    }\n",
       "</style>\n",
       "<table border=\"1\" class=\"dataframe\">\n",
       "  <thead>\n",
       "    <tr style=\"text-align: right;\">\n",
       "      <th></th>\n",
       "      <th>pred_cls</th>\n",
       "      <th>org_cls</th>\n",
       "      <th>outcome</th>\n",
       "      <th>binary_img</th>\n",
       "      <th>heatmap_0</th>\n",
       "      <th>conf</th>\n",
       "      <th>obj</th>\n",
       "      <th>heatmap_1</th>\n",
       "      <th>classes</th>\n",
       "    </tr>\n",
       "  </thead>\n",
       "  <tbody>\n",
       "    <tr>\n",
       "      <th>0</th>\n",
       "      <td>1</td>\n",
       "      <td>1</td>\n",
       "      <td>TP</td>\n",
       "      <td>b'\\x89PNG\\r\\n\\x1a\\n\\x00\\x00\\x00\\rIHDR\\x00\\x00\\...</td>\n",
       "      <td>b'\\x89PNG\\r\\n\\x1a\\n\\x00\\x00\\x00\\rIHDR\\x00\\x00\\...</td>\n",
       "      <td>0.99728</td>\n",
       "      <td>0.87207</td>\n",
       "      <td>b'\\x89PNG\\r\\n\\x1a\\n\\x00\\x00\\x00\\rIHDR\\x00\\x00\\...</td>\n",
       "      <td>{0,1}</td>\n",
       "    </tr>\n",
       "  </tbody>\n",
       "</table>\n",
       "</div>"
      ],
      "text/plain": [
       "  pred_cls org_cls outcome                                         binary_img  \\\n",
       "0        1       1      TP  b'\\x89PNG\\r\\n\\x1a\\n\\x00\\x00\\x00\\rIHDR\\x00\\x00\\...   \n",
       "\n",
       "                                           heatmap_0     conf      obj  \\\n",
       "0  b'\\x89PNG\\r\\n\\x1a\\n\\x00\\x00\\x00\\rIHDR\\x00\\x00\\...  0.99728  0.87207   \n",
       "\n",
       "                                           heatmap_1 classes  \n",
       "0  b'\\x89PNG\\r\\n\\x1a\\n\\x00\\x00\\x00\\rIHDR\\x00\\x00\\...   {0,1}  "
      ]
     },
     "metadata": {},
     "output_type": "display_data"
    },
    {
     "name": "stdout",
     "output_type": "stream",
     "text": [
      "Data inserted into database successfully.\n",
      "img_id 3\n",
      "img 04R024-304-1_05_O1_x005_y001_f0.png\n",
      "model preds tensor([[4.84513e+02, 6.18027e+02, 5.49854e+02, 6.82216e+02, 4.83886e-01, 1.00000e+00]])\n",
      "n_p 1\n",
      "labels: [[1.0, 0.403125, 0.505859, 0.0359375, 0.0523438]]\n",
      "n_l 1\n",
      "object_index 1\n"
     ]
    },
    {
     "data": {
      "text/html": [
       "<div>\n",
       "<style scoped>\n",
       "    .dataframe tbody tr th:only-of-type {\n",
       "        vertical-align: middle;\n",
       "    }\n",
       "\n",
       "    .dataframe tbody tr th {\n",
       "        vertical-align: top;\n",
       "    }\n",
       "\n",
       "    .dataframe thead th {\n",
       "        text-align: right;\n",
       "    }\n",
       "</style>\n",
       "<table border=\"1\" class=\"dataframe\">\n",
       "  <thead>\n",
       "    <tr style=\"text-align: right;\">\n",
       "      <th></th>\n",
       "      <th>pred_cls</th>\n",
       "      <th>org_cls</th>\n",
       "      <th>outcome</th>\n",
       "      <th>binary_img</th>\n",
       "      <th>heatmap_0</th>\n",
       "      <th>conf</th>\n",
       "      <th>obj</th>\n",
       "      <th>heatmap_1</th>\n",
       "      <th>classes</th>\n",
       "    </tr>\n",
       "  </thead>\n",
       "  <tbody>\n",
       "    <tr>\n",
       "      <th>0</th>\n",
       "      <td>1</td>\n",
       "      <td>1</td>\n",
       "      <td>TP</td>\n",
       "      <td>b'\\x89PNG\\r\\n\\x1a\\n\\x00\\x00\\x00\\rIHDR\\x00\\x00\\...</td>\n",
       "      <td>b'\\x89PNG\\r\\n\\x1a\\n\\x00\\x00\\x00\\rIHDR\\x00\\x00\\...</td>\n",
       "      <td>0.99655</td>\n",
       "      <td>0.48556</td>\n",
       "      <td>b'\\x89PNG\\r\\n\\x1a\\n\\x00\\x00\\x00\\rIHDR\\x00\\x00\\...</td>\n",
       "      <td>{0,1}</td>\n",
       "    </tr>\n",
       "  </tbody>\n",
       "</table>\n",
       "</div>"
      ],
      "text/plain": [
       "  pred_cls org_cls outcome                                         binary_img  \\\n",
       "0        1       1      TP  b'\\x89PNG\\r\\n\\x1a\\n\\x00\\x00\\x00\\rIHDR\\x00\\x00\\...   \n",
       "\n",
       "                                           heatmap_0     conf      obj  \\\n",
       "0  b'\\x89PNG\\r\\n\\x1a\\n\\x00\\x00\\x00\\rIHDR\\x00\\x00\\...  0.99655  0.48556   \n",
       "\n",
       "                                           heatmap_1 classes  \n",
       "0  b'\\x89PNG\\r\\n\\x1a\\n\\x00\\x00\\x00\\rIHDR\\x00\\x00\\...   {0,1}  "
      ]
     },
     "metadata": {},
     "output_type": "display_data"
    },
    {
     "name": "stdout",
     "output_type": "stream",
     "text": [
      "Data inserted into database successfully.\n",
      "img_id 2\n",
      "img 04R024-304-1_05_O1_x002_y002_f0.png\n",
      "model preds tensor([[1.06054e+03, 6.02328e+02, 1.22866e+03, 7.64478e+02, 9.05495e-01, 1.00000e+00]])\n",
      "n_p 1\n",
      "labels: [[1.0, 0.89375, 0.536328, 0.1, 0.100781]]\n",
      "n_l 1\n",
      "object_index 1\n"
     ]
    },
    {
     "data": {
      "text/html": [
       "<div>\n",
       "<style scoped>\n",
       "    .dataframe tbody tr th:only-of-type {\n",
       "        vertical-align: middle;\n",
       "    }\n",
       "\n",
       "    .dataframe tbody tr th {\n",
       "        vertical-align: top;\n",
       "    }\n",
       "\n",
       "    .dataframe thead th {\n",
       "        text-align: right;\n",
       "    }\n",
       "</style>\n",
       "<table border=\"1\" class=\"dataframe\">\n",
       "  <thead>\n",
       "    <tr style=\"text-align: right;\">\n",
       "      <th></th>\n",
       "      <th>pred_cls</th>\n",
       "      <th>org_cls</th>\n",
       "      <th>outcome</th>\n",
       "      <th>binary_img</th>\n",
       "      <th>heatmap_0</th>\n",
       "      <th>conf</th>\n",
       "      <th>obj</th>\n",
       "      <th>heatmap_1</th>\n",
       "      <th>classes</th>\n",
       "    </tr>\n",
       "  </thead>\n",
       "  <tbody>\n",
       "    <tr>\n",
       "      <th>0</th>\n",
       "      <td>1</td>\n",
       "      <td>1</td>\n",
       "      <td>TP</td>\n",
       "      <td>b'\\x89PNG\\r\\n\\x1a\\n\\x00\\x00\\x00\\rIHDR\\x00\\x00\\...</td>\n",
       "      <td>b'\\x89PNG\\r\\n\\x1a\\n\\x00\\x00\\x00\\rIHDR\\x00\\x00\\...</td>\n",
       "      <td>0.97503</td>\n",
       "      <td>0.92869</td>\n",
       "      <td>b'\\x89PNG\\r\\n\\x1a\\n\\x00\\x00\\x00\\rIHDR\\x00\\x00\\...</td>\n",
       "      <td>{0,1}</td>\n",
       "    </tr>\n",
       "  </tbody>\n",
       "</table>\n",
       "</div>"
      ],
      "text/plain": [
       "  pred_cls org_cls outcome                                         binary_img  \\\n",
       "0        1       1      TP  b'\\x89PNG\\r\\n\\x1a\\n\\x00\\x00\\x00\\rIHDR\\x00\\x00\\...   \n",
       "\n",
       "                                           heatmap_0     conf      obj  \\\n",
       "0  b'\\x89PNG\\r\\n\\x1a\\n\\x00\\x00\\x00\\rIHDR\\x00\\x00\\...  0.97503  0.92869   \n",
       "\n",
       "                                           heatmap_1 classes  \n",
       "0  b'\\x89PNG\\r\\n\\x1a\\n\\x00\\x00\\x00\\rIHDR\\x00\\x00\\...   {0,1}  "
      ]
     },
     "metadata": {},
     "output_type": "display_data"
    },
    {
     "name": "stdout",
     "output_type": "stream",
     "text": [
      "Data inserted into database successfully.\n",
      "img_id 1\n",
      "img 04R024-304-1_02_O2_x004_y002_f0.png\n",
      "model preds tensor([[9.84567e+02, 1.39559e+02, 1.28395e+03, 5.25988e+02, 7.91603e-01, 0.00000e+00]])\n",
      "n_p 1\n",
      "labels: [[0.0, 0.890625, 0.251953, 0.217188, 0.272656]]\n",
      "n_l 1\n",
      "object_index 1\n"
     ]
    },
    {
     "data": {
      "text/html": [
       "<div>\n",
       "<style scoped>\n",
       "    .dataframe tbody tr th:only-of-type {\n",
       "        vertical-align: middle;\n",
       "    }\n",
       "\n",
       "    .dataframe tbody tr th {\n",
       "        vertical-align: top;\n",
       "    }\n",
       "\n",
       "    .dataframe thead th {\n",
       "        text-align: right;\n",
       "    }\n",
       "</style>\n",
       "<table border=\"1\" class=\"dataframe\">\n",
       "  <thead>\n",
       "    <tr style=\"text-align: right;\">\n",
       "      <th></th>\n",
       "      <th>pred_cls</th>\n",
       "      <th>org_cls</th>\n",
       "      <th>outcome</th>\n",
       "      <th>binary_img</th>\n",
       "      <th>conf</th>\n",
       "      <th>obj</th>\n",
       "      <th>heatmap_0</th>\n",
       "      <th>heatmap_1</th>\n",
       "      <th>classes</th>\n",
       "    </tr>\n",
       "  </thead>\n",
       "  <tbody>\n",
       "    <tr>\n",
       "      <th>0</th>\n",
       "      <td>0</td>\n",
       "      <td>0</td>\n",
       "      <td>TP</td>\n",
       "      <td>b'\\x89PNG\\r\\n\\x1a\\n\\x00\\x00\\x00\\rIHDR\\x00\\x00\\...</td>\n",
       "      <td>0.99713</td>\n",
       "      <td>0.79388</td>\n",
       "      <td>b'\\x89PNG\\r\\n\\x1a\\n\\x00\\x00\\x00\\rIHDR\\x00\\x00\\...</td>\n",
       "      <td>b'\\x89PNG\\r\\n\\x1a\\n\\x00\\x00\\x00\\rIHDR\\x00\\x00\\...</td>\n",
       "      <td>{0,1}</td>\n",
       "    </tr>\n",
       "  </tbody>\n",
       "</table>\n",
       "</div>"
      ],
      "text/plain": [
       "  pred_cls org_cls outcome                                         binary_img  \\\n",
       "0        0       0      TP  b'\\x89PNG\\r\\n\\x1a\\n\\x00\\x00\\x00\\rIHDR\\x00\\x00\\...   \n",
       "\n",
       "      conf      obj                                          heatmap_0  \\\n",
       "0  0.99713  0.79388  b'\\x89PNG\\r\\n\\x1a\\n\\x00\\x00\\x00\\rIHDR\\x00\\x00\\...   \n",
       "\n",
       "                                           heatmap_1 classes  \n",
       "0  b'\\x89PNG\\r\\n\\x1a\\n\\x00\\x00\\x00\\rIHDR\\x00\\x00\\...   {0,1}  "
      ]
     },
     "metadata": {},
     "output_type": "display_data"
    },
    {
     "name": "stdout",
     "output_type": "stream",
     "text": [
      "Data inserted into database successfully.\n",
      "img_id 0\n",
      "img 04R024-304-1_02_O1_x002_y002_f0.png\n",
      "model preds tensor([[1.12490e+03, 1.06742e+03, 1.20544e+03, 1.14572e+03, 8.96045e-01, 1.00000e+00],\n",
      "        [9.56993e+02, 3.45889e+02, 1.28779e+03, 7.05918e+02, 2.99631e-01, 0.00000e+00]])\n",
      "n_p 2\n",
      "labels: [[1.0, 0.910547, 0.863281, 0.0523438, 0.059375]]\n",
      "n_l 1\n",
      "object_index 1\n",
      "object_index 2\n"
     ]
    },
    {
     "data": {
      "text/html": [
       "<div>\n",
       "<style scoped>\n",
       "    .dataframe tbody tr th:only-of-type {\n",
       "        vertical-align: middle;\n",
       "    }\n",
       "\n",
       "    .dataframe tbody tr th {\n",
       "        vertical-align: top;\n",
       "    }\n",
       "\n",
       "    .dataframe thead th {\n",
       "        text-align: right;\n",
       "    }\n",
       "</style>\n",
       "<table border=\"1\" class=\"dataframe\">\n",
       "  <thead>\n",
       "    <tr style=\"text-align: right;\">\n",
       "      <th></th>\n",
       "      <th>pred_cls</th>\n",
       "      <th>org_cls</th>\n",
       "      <th>outcome</th>\n",
       "      <th>binary_img</th>\n",
       "      <th>heatmap_0</th>\n",
       "      <th>conf</th>\n",
       "      <th>obj</th>\n",
       "      <th>heatmap_1</th>\n",
       "      <th>classes</th>\n",
       "    </tr>\n",
       "  </thead>\n",
       "  <tbody>\n",
       "    <tr>\n",
       "      <th>0</th>\n",
       "      <td>1</td>\n",
       "      <td>1</td>\n",
       "      <td>TP</td>\n",
       "      <td>b'\\x89PNG\\r\\n\\x1a\\n\\x00\\x00\\x00\\rIHDR\\x00\\x00\\...</td>\n",
       "      <td>b'\\x89PNG\\r\\n\\x1a\\n\\x00\\x00\\x00\\rIHDR\\x00\\x00\\...</td>\n",
       "      <td>0.99783</td>\n",
       "      <td>0.89799</td>\n",
       "      <td>b'\\x89PNG\\r\\n\\x1a\\n\\x00\\x00\\x00\\rIHDR\\x00\\x00\\...</td>\n",
       "      <td>{0,1}</td>\n",
       "    </tr>\n",
       "    <tr>\n",
       "      <th>1</th>\n",
       "      <td>0</td>\n",
       "      <td>BG</td>\n",
       "      <td>FP</td>\n",
       "      <td>b'\\x89PNG\\r\\n\\x1a\\n\\x00\\x00\\x00\\rIHDR\\x00\\x00\\...</td>\n",
       "      <td>b'\\x89PNG\\r\\n\\x1a\\n\\x00\\x00\\x00\\rIHDR\\x00\\x00\\...</td>\n",
       "      <td>0.99911</td>\n",
       "      <td>0.2999</td>\n",
       "      <td>b'\\x89PNG\\r\\n\\x1a\\n\\x00\\x00\\x00\\rIHDR\\x00\\x00\\...</td>\n",
       "      <td>{0,1}</td>\n",
       "    </tr>\n",
       "  </tbody>\n",
       "</table>\n",
       "</div>"
      ],
      "text/plain": [
       "  pred_cls org_cls outcome                                         binary_img  \\\n",
       "0        1       1      TP  b'\\x89PNG\\r\\n\\x1a\\n\\x00\\x00\\x00\\rIHDR\\x00\\x00\\...   \n",
       "1        0      BG      FP  b'\\x89PNG\\r\\n\\x1a\\n\\x00\\x00\\x00\\rIHDR\\x00\\x00\\...   \n",
       "\n",
       "                                           heatmap_0     conf      obj  \\\n",
       "0  b'\\x89PNG\\r\\n\\x1a\\n\\x00\\x00\\x00\\rIHDR\\x00\\x00\\...  0.99783  0.89799   \n",
       "1  b'\\x89PNG\\r\\n\\x1a\\n\\x00\\x00\\x00\\rIHDR\\x00\\x00\\...  0.99911   0.2999   \n",
       "\n",
       "                                           heatmap_1 classes  \n",
       "0  b'\\x89PNG\\r\\n\\x1a\\n\\x00\\x00\\x00\\rIHDR\\x00\\x00\\...   {0,1}  \n",
       "1  b'\\x89PNG\\r\\n\\x1a\\n\\x00\\x00\\x00\\rIHDR\\x00\\x00\\...   {0,1}  "
      ]
     },
     "metadata": {},
     "output_type": "display_data"
    },
    {
     "name": "stdout",
     "output_type": "stream",
     "text": [
      "Data inserted into database successfully.\n",
      "Data inserted into database successfully.\n",
      "img_id 5\n",
      "img 04R024-304-1_07_O1_x006_y004_f0.png\n",
      "model preds tensor([[1.12820e+03, 2.86884e+02, 1.19762e+03, 3.61232e+02, 8.24291e-01, 1.00000e+00],\n",
      "        [1.76540e+00, 6.01692e+02, 1.52061e+02, 9.15985e+02, 7.45423e-01, 0.00000e+00]])\n",
      "n_p 2\n",
      "labels: [[0.0, 0.0574219, 0.596875, 0.114844, 0.229687]]\n",
      "n_l 1\n",
      "object_index 1\n",
      "object_index 2\n"
     ]
    },
    {
     "data": {
      "text/html": [
       "<div>\n",
       "<style scoped>\n",
       "    .dataframe tbody tr th:only-of-type {\n",
       "        vertical-align: middle;\n",
       "    }\n",
       "\n",
       "    .dataframe tbody tr th {\n",
       "        vertical-align: top;\n",
       "    }\n",
       "\n",
       "    .dataframe thead th {\n",
       "        text-align: right;\n",
       "    }\n",
       "</style>\n",
       "<table border=\"1\" class=\"dataframe\">\n",
       "  <thead>\n",
       "    <tr style=\"text-align: right;\">\n",
       "      <th></th>\n",
       "      <th>pred_cls</th>\n",
       "      <th>org_cls</th>\n",
       "      <th>outcome</th>\n",
       "      <th>binary_img</th>\n",
       "      <th>heatmap_0</th>\n",
       "      <th>conf</th>\n",
       "      <th>obj</th>\n",
       "      <th>heatmap_1</th>\n",
       "      <th>classes</th>\n",
       "    </tr>\n",
       "  </thead>\n",
       "  <tbody>\n",
       "    <tr>\n",
       "      <th>0</th>\n",
       "      <td>1</td>\n",
       "      <td>0</td>\n",
       "      <td>Missclassified</td>\n",
       "      <td>b'\\x89PNG\\r\\n\\x1a\\n\\x00\\x00\\x00\\rIHDR\\x00\\x00\\...</td>\n",
       "      <td>b'\\x89PNG\\r\\n\\x1a\\n\\x00\\x00\\x00\\rIHDR\\x00\\x00\\...</td>\n",
       "      <td>0.99784</td>\n",
       "      <td>0.82608</td>\n",
       "      <td>b'\\x89PNG\\r\\n\\x1a\\n\\x00\\x00\\x00\\rIHDR\\x00\\x00\\...</td>\n",
       "      <td>{0,1}</td>\n",
       "    </tr>\n",
       "    <tr>\n",
       "      <th>1</th>\n",
       "      <td>0</td>\n",
       "      <td>BG</td>\n",
       "      <td>FP</td>\n",
       "      <td>b'\\x89PNG\\r\\n\\x1a\\n\\x00\\x00\\x00\\rIHDR\\x00\\x00\\...</td>\n",
       "      <td>b'\\x89PNG\\r\\n\\x1a\\n\\x00\\x00\\x00\\rIHDR\\x00\\x00\\...</td>\n",
       "      <td>0.99507</td>\n",
       "      <td>0.74912</td>\n",
       "      <td>b'\\x89PNG\\r\\n\\x1a\\n\\x00\\x00\\x00\\rIHDR\\x00\\x00\\...</td>\n",
       "      <td>{0,1}</td>\n",
       "    </tr>\n",
       "  </tbody>\n",
       "</table>\n",
       "</div>"
      ],
      "text/plain": [
       "  pred_cls org_cls         outcome  \\\n",
       "0        1       0  Missclassified   \n",
       "1        0      BG              FP   \n",
       "\n",
       "                                          binary_img  \\\n",
       "0  b'\\x89PNG\\r\\n\\x1a\\n\\x00\\x00\\x00\\rIHDR\\x00\\x00\\...   \n",
       "1  b'\\x89PNG\\r\\n\\x1a\\n\\x00\\x00\\x00\\rIHDR\\x00\\x00\\...   \n",
       "\n",
       "                                           heatmap_0     conf      obj  \\\n",
       "0  b'\\x89PNG\\r\\n\\x1a\\n\\x00\\x00\\x00\\rIHDR\\x00\\x00\\...  0.99784  0.82608   \n",
       "1  b'\\x89PNG\\r\\n\\x1a\\n\\x00\\x00\\x00\\rIHDR\\x00\\x00\\...  0.99507  0.74912   \n",
       "\n",
       "                                           heatmap_1 classes  \n",
       "0  b'\\x89PNG\\r\\n\\x1a\\n\\x00\\x00\\x00\\rIHDR\\x00\\x00\\...   {0,1}  \n",
       "1  b'\\x89PNG\\r\\n\\x1a\\n\\x00\\x00\\x00\\rIHDR\\x00\\x00\\...   {0,1}  "
      ]
     },
     "metadata": {},
     "output_type": "display_data"
    },
    {
     "name": "stdout",
     "output_type": "stream",
     "text": [
      "Data inserted into database successfully.\n",
      "Data inserted into database successfully.\n"
     ]
    }
   ],
   "source": [
    "focus_conv, arr_yolo_convs, arr_inside_yolo_convs, arr_detection_convs, arr_summation_shortcuts = prepare_for_lrp(m_model)\n",
    "#m_model.prepare_exp()\n",
    "#m_model_exp.prepare_exp() # not reversible yet\n",
    "for img_id, img in enumerate(imgs):\n",
    "    instance = ds.__getitem__(ds.__getid__(img))\n",
    "    image_raw = instance['image']\n",
    "    model_prediction = m_model.predict(instance)\n",
    "    # model preparation\n",
    "    \n",
    "    print(\"img_id\",ds.__getid__(img))\n",
    "    print(\"img\",img)\n",
    "    exp = explainer(model= m_model,\n",
    "                    instance= instance,\n",
    "                    detect_thresh= detect_thresh,\n",
    "                    nms_thresh= nms_thresh,\n",
    "                    grad_of=grad_of,\n",
    "                    gamma=gamma,\n",
    "                    n_max= n_max,\n",
    "                    input_lv= input_lv,\n",
    "                    input_hv= input_hv,\n",
    "                    focus_conv= focus_conv,\n",
    "                    arr_yolo_convs= arr_yolo_convs,\n",
    "                    arr_inside_yolo_convs= arr_inside_yolo_convs,\n",
    "                    arr_detection_convs= arr_detection_convs,\n",
    "                    arr_summation_shortcuts= arr_summation_shortcuts\n",
    "                    )\n",
    "\n",
    "    df = exp.get_heatmaps_for_instance(exp, instance=instance, img=image_raw, class_names=class_names)\n",
    "    #insert heatmap into the database\n",
    "    if df.empty:\n",
    "        print(\"No image file for this class\")\n",
    "    else:\n",
    "        for index, row in df.iterrows():\n",
    "            binary_img = row['binary_img']\n",
    "            original_class = row['org_cls']\n",
    "            predicted_class = row['pred_cls']\n",
    "            confidence = row['conf']\n",
    "            objectiveness = row['obj']\n",
    "            outcome = row['outcome']\n",
    "            binary_heatmap_c0 = row['heatmap_0']\n",
    "            binary_heatmap_c1 = row['heatmap_1']\n",
    "            classes = row['classes']\n",
    "            \n",
    "            insert_lrp_2_classes(model_id_internal, binary_img, original_class, predicted_class, confidence, objectiveness, binary_heatmap_c0, binary_heatmap_c1, classes, img, outcome)"
   ]
  },
  {
   "cell_type": "code",
   "execution_count": null,
   "id": "971e1540-9801-496c-8696-19eabe639145",
   "metadata": {},
   "outputs": [],
   "source": []
  }
 ],
 "metadata": {
  "kernelspec": {
   "display_name": "Python 3 (ipykernel)",
   "language": "python",
   "name": "python3"
  },
  "language_info": {
   "codemirror_mode": {
    "name": "ipython",
    "version": 3
   },
   "file_extension": ".py",
   "mimetype": "text/x-python",
   "name": "python",
   "nbconvert_exporter": "python",
   "pygments_lexer": "ipython3",
   "version": "3.10.8"
  }
 },
 "nbformat": 4,
 "nbformat_minor": 5
}
